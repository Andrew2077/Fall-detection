{
  "nbformat": 4,
  "nbformat_minor": 0,
  "metadata": {
    "colab": {
      "provenance": [],
      "gpuType": "T4"
    },
    "kernelspec": {
      "name": "python3",
      "display_name": "Python 3"
    },
    "language_info": {
      "name": "python"
    },
    "accelerator": "GPU"
  },
  "cells": [
    {
      "cell_type": "code",
      "execution_count": 1,
      "metadata": {
        "id": "xr5B-VSODkRU"
      },
      "outputs": [],
      "source": [
        "import pandas as pd\n",
        "import numpy as np\n",
        "from sklearn.preprocessing import label_binarize\n",
        "\n",
        "df = pd.read_csv(r'./cleaned_up_part2.csv')\n",
        "\n",
        "\n",
        "def create_windowed_dataset(data, target, window=1, step=1):\n",
        "    Xs, ys = [], []\n",
        "    for i in range(0, len(data) - window, step):\n",
        "        v = data.iloc[i : (i + window)].values\n",
        "        labels = target.iloc[i : i + window]\n",
        "        Xs.append(v)\n",
        "        ys.append(labels.mode()[0])\n",
        "    return np.array(Xs), np.array(ys).reshape(-1, 1)\n",
        "\n",
        "\n"
      ]
    },
    {
      "cell_type": "code",
      "source": [
        "\n",
        "data = df.drop(columns=[\"label\"])\n",
        "target = df[\"label\"]\n",
        "X_train, y_train = create_windowed_dataset(data, target, window=1000, step=1)\n",
        "y_train = label_binarize(y_train, classes=['walking', 'falling', 'kneeling'])\n",
        "X_train.shape, y_train.shape"
      ],
      "metadata": {
        "colab": {
          "base_uri": "https://localhost:8080/"
        },
        "id": "x4w67bgeEHTh",
        "outputId": "0c7f8b69-2d05-40e5-cde7-868fb84669ab"
      },
      "execution_count": 16,
      "outputs": [
        {
          "output_type": "execute_result",
          "data": {
            "text/plain": [
              "((16499, 1000, 6), (16499, 3))"
            ]
          },
          "metadata": {},
          "execution_count": 16
        }
      ]
    },
    {
      "cell_type": "code",
      "source": [
        "# import tensorflow as tf\n",
        "from tensorflow import keras\n",
        "\n",
        "model = keras.Sequential()\n",
        "model.add(\n",
        "    keras.layers.Bidirectional(\n",
        "      keras.layers.LSTM(\n",
        "          units=128,\n",
        "          input_shape=[X_train.shape[1], X_train.shape[2]]\n",
        "      )\n",
        "    )\n",
        ")\n",
        "model.add(keras.layers.Dropout(rate=0.5))\n",
        "model.add(keras.layers.Dense(units=128, activation='relu'))\n",
        "model.add(keras.layers.Dense(y_train.shape[1], activation='softmax'))\n",
        "\n",
        "model.compile(loss='categorical_crossentropy', optimizer='adam', metrics=['acc'])\n",
        "model.build(input_shape=(None, X_train.shape[1], X_train.shape[2]))\n",
        "model.summary()\n"
      ],
      "metadata": {
        "colab": {
          "base_uri": "https://localhost:8080/"
        },
        "id": "0qJ9E3uqElfu",
        "outputId": "6aa9977b-8b2a-4f45-949f-6a83a6070310"
      },
      "execution_count": 21,
      "outputs": [
        {
          "output_type": "stream",
          "name": "stdout",
          "text": [
            "Model: \"sequential_3\"\n",
            "_________________________________________________________________\n",
            " Layer (type)                Output Shape              Param #   \n",
            "=================================================================\n",
            " bidirectional_3 (Bidirectio  (None, 256)              138240    \n",
            " nal)                                                            \n",
            "                                                                 \n",
            " dropout_3 (Dropout)         (None, 256)               0         \n",
            "                                                                 \n",
            " dense_6 (Dense)             (None, 128)               32896     \n",
            "                                                                 \n",
            " dense_7 (Dense)             (None, 3)                 387       \n",
            "                                                                 \n",
            "=================================================================\n",
            "Total params: 171,523\n",
            "Trainable params: 171,523\n",
            "Non-trainable params: 0\n",
            "_________________________________________________________________\n"
          ]
        }
      ]
    },
    {
      "cell_type": "code",
      "source": [
        "# tf callbacks\n",
        "SavingBestmodel = keras.callbacks.ModelCheckpoint(\n",
        "    \"best_model.h5\", monitor=\"val_loss\", mode=\"min\", verbose=1, save_best_only=True\n",
        ")\n",
        "\n"
      ],
      "metadata": {
        "id": "CLLM-PtkEnQW"
      },
      "execution_count": 20,
      "outputs": []
    },
    {
      "cell_type": "code",
      "source": [
        "history = model.fit(\n",
        "    X_train, y_train,\n",
        "    epochs=100,\n",
        "    batch_size=128,\n",
        "    validation_split = 0.2,\n",
        "    shuffle=True,\n",
        "    callbacks=[SavingBestmodel]\n",
        ")"
      ],
      "metadata": {
        "id": "8I-LvpY_Es7D"
      },
      "execution_count": null,
      "outputs": []
    },
    {
      "cell_type": "markdown",
      "source": [
        "## Loading model\n",
        "- load & split data into window\n",
        "- split into train and test data\n",
        "- one hot encoding of ytrain, xtest\n",
        "- predicting and calculating accuracy"
      ],
      "metadata": {
        "id": "Du4HL5Z4WEAv"
      }
    },
    {
      "cell_type": "code",
      "source": [
        "import tensorflow as tf\n",
        "from sklearn.model_selection import train_test_split\n",
        "from sklearn.metrics import accuracy_score\n",
        "\n",
        "\n",
        "X, y = create_windowed_dataset(data, target, window=1000, step=1)\n",
        "xtrain, xtest, ytrain, ytest =  train_test_split(X, y, shuffle = True)\n",
        "ytrain = label_binarize(ytrain, classes=['walking', 'falling', 'kneeling'])\n",
        "ytest = label_binarize(ytest, classes=['walking', 'falling', 'kneeling'])\n",
        "\n",
        "best_model = tf.keras.models.load_model('best_model.h5')\n",
        "predictions = best_model.predict(xtrain)\n",
        "test_prediction = best_model.predict(xtest)\n",
        "\n",
        "print(\"train-acc:\", accuracy_score(ytrain.argmax(axis=1), predictions.argmax(axis=1)))\n",
        "print(\"test-acc:\", accuracy_score(ytest.argmax(axis=1), test_prediction.argmax(axis=1)))\n"
      ],
      "metadata": {
        "id": "AzWp4RYqNP3y"
      },
      "execution_count": 2,
      "outputs": []
    },
    {
      "cell_type": "markdown",
      "source": [
        "## Predicting one sample\n",
        "- load a sample\n",
        "- expands to batch\n",
        "- predict with model"
      ],
      "metadata": {
        "id": "g9YUqE5-W8il"
      }
    },
    {
      "cell_type": "code",
      "source": [
        "import tensorflow as tf\n",
        "best_model = tf.keras.models.load_model('best_model.h5')\n"
      ],
      "metadata": {
        "id": "FokIZ9UMX8OG"
      },
      "execution_count": 3,
      "outputs": []
    },
    {
      "cell_type": "code",
      "source": [
        "sample = df.iloc[15000:16000].drop(columns = ['label'])\n",
        "true_label = df.iloc[15000:16000]['label'].mode()[0]\n",
        "sample.values\n",
        "sample_batch = np.expand_dims(sample.values, axis = 0)\n",
        "print(\"shape\", sample_batch.shape)\n",
        "classes=['walking', 'falling', 'kneeling']"
      ],
      "metadata": {
        "colab": {
          "base_uri": "https://localhost:8080/"
        },
        "id": "XOLbM1_bOHkv",
        "outputId": "482deaca-b340-4368-8e99-de95efbcd676"
      },
      "execution_count": 13,
      "outputs": [
        {
          "output_type": "stream",
          "name": "stdout",
          "text": [
            "shape (1, 1000, 6)\n"
          ]
        }
      ]
    },
    {
      "cell_type": "code",
      "source": [
        "classes[best_model.predict(sample_batch).argmax(axis=1)[0]]"
      ],
      "metadata": {
        "colab": {
          "base_uri": "https://localhost:8080/",
          "height": 53
        },
        "id": "0Zynsva_dkYZ",
        "outputId": "74cf3954-b72e-47bc-bce2-c4482b0a09b9"
      },
      "execution_count": 14,
      "outputs": [
        {
          "output_type": "stream",
          "name": "stdout",
          "text": [
            "1/1 [==============================] - 0s 39ms/step\n"
          ]
        },
        {
          "output_type": "execute_result",
          "data": {
            "text/plain": [
              "'falling'"
            ],
            "application/vnd.google.colaboratory.intrinsic+json": {
              "type": "string"
            }
          },
          "metadata": {},
          "execution_count": 14
        }
      ]
    },
    {
      "cell_type": "markdown",
      "source": [
        "## Converting to tflite\n",
        "- save whole model in folder\n",
        "- convert to tflite\n",
        "- save to .tflite format"
      ],
      "metadata": {
        "id": "EGWLXE9aYkeb"
      }
    },
    {
      "cell_type": "code",
      "source": [
        "import tensorflow as tf\n",
        "model=tf.keras.models.load_model('best_model.h5')\n",
        "model.save('LSTM_model')\n"
      ],
      "metadata": {
        "colab": {
          "base_uri": "https://localhost:8080/"
        },
        "id": "_XGNmkAwax0E",
        "outputId": "22ef183a-9f0b-4881-fc13-9f5ab7ce7161"
      },
      "execution_count": 8,
      "outputs": [
        {
          "output_type": "stream",
          "name": "stderr",
          "text": [
            "WARNING:absl:Found untraced functions such as _update_step_xla, lstm_cell_7_layer_call_fn, lstm_cell_7_layer_call_and_return_conditional_losses, lstm_cell_8_layer_call_fn, lstm_cell_8_layer_call_and_return_conditional_losses while saving (showing 5 of 5). These functions will not be directly callable after loading.\n"
          ]
        }
      ]
    },
    {
      "cell_type": "code",
      "source": [
        "import tensorflow as tf\n",
        "\n",
        "\n",
        "converter = tf.lite.TFLiteConverter.from_saved_model('/content/LSTM_model')\n",
        "converter.target_spec.supported_ops = [\n",
        "  tf.lite.OpsSet.TFLITE_BUILTINS, # enable TensorFlow Lite ops.\n",
        "  tf.lite.OpsSet.SELECT_TF_OPS # enable TensorFlow ops.\n",
        "]\n",
        "tflite_model = converter.convert()\n",
        "open(\"converted_model.tflite\", \"wb\").write(tflite_model)\n",
        "\n"
      ],
      "metadata": {
        "colab": {
          "base_uri": "https://localhost:8080/"
        },
        "id": "ElX01OSsZJXM",
        "outputId": "d6ab1122-aa86-4446-ee55-98b24d7c987b"
      },
      "execution_count": 9,
      "outputs": [
        {
          "output_type": "execute_result",
          "data": {
            "text/plain": [
              "706488"
            ]
          },
          "metadata": {},
          "execution_count": 9
        }
      ]
    },
    {
      "cell_type": "markdown",
      "source": [
        "## Notes\n",
        "in case if tflite model didn't fit the device\n",
        "- use less LSTM units <128>\n",
        "- less dense units <128>\n",
        "- remove differntiation-part"
      ],
      "metadata": {
        "id": "pFJs3p3TcP3r"
      }
    },
    {
      "cell_type": "markdown",
      "source": [
        "## Quantization"
      ],
      "metadata": {
        "id": "KauDmi-lsdgD"
      }
    },
    {
      "cell_type": "code",
      "source": [
        "def representative_dataset():\n",
        "    for _ in range(100):\n",
        "      data = np.random.rand(1, 1000, 6)\n",
        "      yield [data.astype(np.float32)]"
      ],
      "metadata": {
        "id": "b4nCaB62nwvN"
      },
      "execution_count": 21,
      "outputs": []
    },
    {
      "cell_type": "code",
      "source": [
        "import tensorflow as tf\n",
        "converter = tf.lite.TFLiteConverter.from_saved_model('/content/LSTM_model')\n",
        "converter.target_spec.supported_ops = [\n",
        "  tf.lite.OpsSet.TFLITE_BUILTINS, # enable TensorFlow Lite ops.\n",
        "  tf.lite.OpsSet.SELECT_TF_OPS # enable TensorFlow ops.\n",
        "]\n",
        "converter.optimizations = [tf.lite.Optimize.DEFAULT]\n",
        "converter.representative_dataset = representative_dataset\n",
        "converter._experimental_lower_tensor_list_ops = True  # Disable lower tensor list ops\n",
        "tflite_quant_model = converter.convert()\n"
      ],
      "metadata": {
        "id": "3E0VsYe7lZ6g"
      },
      "execution_count": 25,
      "outputs": []
    },
    {
      "cell_type": "code",
      "source": [
        "open(\"quantized_model.tflite\", \"wb\").write(tflite_quant_model)"
      ],
      "metadata": {
        "colab": {
          "base_uri": "https://localhost:8080/"
        },
        "id": "ewzxiH-1pOVU",
        "outputId": "6a91e361-e378-45dc-bcbd-0c5948f1eb36"
      },
      "execution_count": 26,
      "outputs": [
        {
          "output_type": "execute_result",
          "data": {
            "text/plain": [
              "193032"
            ]
          },
          "metadata": {},
          "execution_count": 26
        }
      ]
    },
    {
      "cell_type": "code",
      "source": [
        "!xxd -i quantized_model.tflite > quantized_model_data.cc"
      ],
      "metadata": {
        "id": "O2bxJuB5pfzV"
      },
      "execution_count": 28,
      "outputs": []
    }
  ]
}